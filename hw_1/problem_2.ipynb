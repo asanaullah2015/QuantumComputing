{
  "nbformat": 4,
  "nbformat_minor": 0,
  "metadata": {
    "colab": {
      "name": "hw_1_problem_2.ipynb",
      "provenance": [],
      "collapsed_sections": [],
      "include_colab_link": true
    },
    "kernelspec": {
      "name": "python3",
      "display_name": "Python 3"
    }
  },
  "cells": [
    {
      "cell_type": "markdown",
      "metadata": {
        "id": "view-in-github",
        "colab_type": "text"
      },
      "source": [
        "<a href=\"https://colab.research.google.com/github/asanaullah2015/cot5600/blob/master/hw_1/problem_2.ipynb\" target=\"_parent\"><img src=\"https://colab.research.google.com/assets/colab-badge.svg\" alt=\"Open In Colab\"/></a>"
      ]
    },
    {
      "cell_type": "markdown",
      "metadata": {
        "id": "sGf-nYo10Klf",
        "colab_type": "text"
      },
      "source": [
        "## HW 1 ##"
      ]
    },
    {
      "cell_type": "markdown",
      "metadata": {
        "id": "dO_S4Lfp2ikH",
        "colab_type": "text"
      },
      "source": [
        "### Problem 2 ###"
      ]
    },
    {
      "cell_type": "markdown",
      "metadata": {
        "id": "G0vOp72N8Ir9",
        "colab_type": "text"
      },
      "source": [
        "**Some definitions**"
      ]
    },
    {
      "cell_type": "markdown",
      "metadata": {
        "id": "tpAherNO2k0W",
        "colab_type": "text"
      },
      "source": [
        "Let \n",
        "\n",
        "$$M\\in\\mathbb{R}^{n\\times n}$$ be an arbitrary matrix.  \n",
        "\n",
        "Let $$p(x)=a_0 + a_1 x + a_2 x^2 + \\ldots + a_n x^n \\in\\mathbb{R}[x]$$ be an arbitrary polynomial of degree less or equal to $n$.\n",
        "\n",
        "The above polynomial can be used to define a matrix function that takes matrices as input and outputs matrices as follows: \n",
        "\n",
        "$$p(M) = a_0 I + a_1 M + \\ldots + a_n M^n,$$ \n",
        "\n",
        "that is, each monomial $x^k$ is substituted by the corresponding matrix power $M^k$.\n",
        "\n",
        "We say that a polynomial $p(x)$ annihilates a matrix $M\\in\\mathbb{R}^{n\\times n}$ iff $p(M)=\\boldsymbol{0}$, where $\\boldsymbol{0}$ is the zero matrix."
      ]
    },
    {
      "cell_type": "markdown",
      "metadata": {
        "id": "VqlwG3yO6eGm",
        "colab_type": "text"
      },
      "source": [
        "**Task**"
      ]
    },
    {
      "cell_type": "markdown",
      "metadata": {
        "id": "n4ltay5l26H-",
        "colab_type": "text"
      },
      "source": [
        "The task is to write a function ```annihilate_poly``` that takes as input an arbitrary square numpy array $M$ and outputs a vector whose cofficients are the coefficients of a (non-trivial) polynomial that annihilates $M$.  One-trivial means that its is not the zero polynomial which maps every matrix to the zero matrix."
      ]
    },
    {
      "cell_type": "markdown",
      "metadata": {
        "id": "F5jLtN6i6kr2",
        "colab_type": "text"
      },
      "source": [
        "**Hint**"
      ]
    },
    {
      "cell_type": "markdown",
      "metadata": {
        "id": "gX0wbu8z3eDu",
        "colab_type": "text"
      },
      "source": [
        "You can reduce the problem to finding a linear dependance relationship between the $n+1$ vectors \n",
        "\n",
        "$$\\mathrm{vec}(I), \\mathrm{vec}(M), \\mathrm{vec}(M^2),\\ldots,\\mathrm{vec}(M^n)\\in\\mathrm{R}^{n^2}.$$\n",
        "\n"
      ]
    },
    {
      "cell_type": "markdown",
      "metadata": {
        "id": "n3SRuDOi5DLH",
        "colab_type": "text"
      },
      "source": [
        "The operation $\\mathrm{vec}$ turns a square matrix $M\\in\\mathbb{R}^{n\\times n}$ into a vector $v\\in\\mathbb{R}^{n^2}$ by first listing the entries of the first row, then those of the second row etc."
      ]
    },
    {
      "cell_type": "markdown",
      "metadata": {
        "id": "KXdlDLbQ7lHm",
        "colab_type": "text"
      },
      "source": [
        "Update: \n",
        "\n",
        "To solve this problem, you have to compute the null space of the matrix $A\\in \\mathbb{R}^{n^2\\times (n+1)}$ whose columns are the vectors $\\mathrm{vec}(M^k)$ for $k\\in\\{0,\\ldots,n\\}$.\n",
        "\n",
        "\n",
        "(This is not needed: \n",
        "\n",
        "If you don't remeber how to compute the find a linear dependance relationship, check out this stackoverflow post: https://math.stackexchange.com/questions/2198960/finding-linear-dependence-relation\n",
        "\n",
        "You can use https://docs.scipy.org/doc/numpy/reference/generated/numpy.linalg.solve.html to solve the resulting matrix equation.)"
      ]
    },
    {
      "cell_type": "markdown",
      "metadata": {
        "id": "je97MuQ981hW",
        "colab_type": "text"
      },
      "source": [
        "**Task**"
      ]
    },
    {
      "cell_type": "markdown",
      "metadata": {
        "id": "H0LgESqW8_7O",
        "colab_type": "text"
      },
      "source": [
        "Write a function ```annihilate_min_deg_poly``` that computes a non-trivial polynomial that annihilates a given square matrix and has the smallest possible degree.  Recall that a polynomial $p(x)$ has degree $d$ if the coefficient $a_{d+1}=\\ldots=a_n=0$."
      ]
    },
    {
      "cell_type": "markdown",
      "metadata": {
        "id": "FuTpBTknUBbj",
        "colab_type": "text"
      },
      "source": [
        "---\n",
        "Below is the cleaned up code\n",
        "\n",
        "---"
      ]
    },
    {
      "cell_type": "code",
      "metadata": {
        "id": "kyxzNNHhUF8B",
        "colab_type": "code",
        "colab": {
          "base_uri": "https://localhost:8080/",
          "height": 191
        },
        "outputId": "2fa07308-4ff3-4b37-d275-448191aa8b05"
      },
      "source": [
        "import numpy as np\n",
        "from scipy.linalg import null_space\n",
        "\n",
        "def annihilate_poly(M, n, k, powersOfM):\n",
        "  #M, matrix, of nxn dimension, k degree of desired polynomial that annihilates\n",
        "  #returns -1 if none exists, else returns coefficients in a vector\n",
        "  \n",
        "  vecPowers = np.empty((n*n, k+1))\n",
        "  for i in range (0, k+1):\n",
        "    vecPowers[:,i] = np.reshape(powersOfM[i], (n*n))\n",
        "  \n",
        "  ns = null_space(vecPowers)\n",
        "  if (ns.size == 0):\n",
        "    return -1\n",
        "  return ns\n",
        "\n",
        "def annihilate_min_deg_poly (M, n):\n",
        "  #finds minimum degree annihilating polynomial of M, an nxn matrix\n",
        "  powersOfM = np.empty((n+1, n, n))\n",
        "  powersOfM[0] = np.identity(n);\n",
        "  for i in range(1,n+1):\n",
        "    powersOfM[i] = np.matmul(powersOfM[i-1], M)\n",
        "  \n",
        "  coeff = sillyFunction(M, n, 0, n, powersOfM)\n",
        "  print(\"The minimum degree annihilating polynomial is of degree \")\n",
        "  print(np.prod(coeff.shape) - 1)\n",
        "  t = \"p(M) = \"\n",
        "  for i in range (0, np.prod(coeff.shape) - 1):\n",
        "    t+= str(coeff[i]) + \"*M^\" + str(i) + \" + \"\n",
        "  t+= str(coeff[np.prod(coeff.shape) - 1]) \\\n",
        "    + \"*M^\" + str(np.prod(coeff.shape) - 1)\n",
        "  \n",
        "  print(t)\n",
        "  print(\"Evaluation of p(M)\")\n",
        "  vecPowers = np.empty((n*n, coeff.size))\n",
        "  for i in range (0, coeff.size):\n",
        "    vecPowers[:,i] = np.reshape(powersOfM[i], (n*n))\n",
        "  np.reshape(coeff, (coeff.size, 1))\n",
        "\n",
        "  print(\"p(M) = \\n\")\n",
        "  print(np.reshape(np.matmul(vecPowers, coeff), (n,n)))\n",
        "\n",
        "def sillyFunction(M, n, i, j, powersOfM):\n",
        "  #binary search for degree of min annihilating polynomial\n",
        "  if i == j:\n",
        "    ns = annihilate_poly(M, n, i, powersOfM)\n",
        "    return ns[:, 0]  \n",
        "  k = (i+j)//2\n",
        "  v = annihilate_poly(M, n, k, powersOfM)\n",
        "  if np.isscalar(v) and v == -1:\n",
        "    return sillyFunction(M, n, k+1, j, powersOfM)\n",
        "  return sillyFunction(M, n, i, k, powersOfM)\n",
        "\n",
        "M = [[5,9,9,7],\n",
        "     [5,5,4,5],\n",
        "     [6,5,11,1],\n",
        "     [1,5,3,7]]\n",
        "n = 4\n",
        "\"\"\"\n",
        "#this is for generating random n and M, \n",
        "#for high n, rounding error becomes high\n",
        "#for random matrices, the min degree polynomial is usually degree n\n",
        "n = np.random.randint(1,10)\n",
        "M = np.random.randint(1,10,size=(n,n))\n",
        "print(n)\n",
        "print(M)\n",
        "\"\"\"\n",
        "annihilate_min_deg_poly(M, n);"
      ],
      "execution_count": 103,
      "outputs": [
        {
          "output_type": "stream",
          "text": [
            "The minimum degree annihilating polynomial is of degree \n",
            "4\n",
            "p(M) = -0.8819179317604852*M^0 + 0.33071922441238255*M^1 + 0.32815550949475525*M^2 + -0.07178401770197779*M^3 + 0.002563714917927784*M^4\n",
            "Evaluation of p(M)\n",
            "p(M) = \n",
            "\n",
            "[[ 5.48538992e-12 -2.30215846e-12 -2.21689334e-12 -1.79056769e-12]\n",
            " [-1.29318778e-12  5.45696821e-12 -8.81072992e-13 -1.29318778e-12]\n",
            " [-1.50635060e-12 -1.13686838e-12  3.86535248e-12 -2.84217094e-14]\n",
            " [-1.56319402e-13 -1.32160949e-12 -6.53699317e-13  4.73221462e-12]]\n"
          ],
          "name": "stdout"
        }
      ]
    },
    {
      "cell_type": "markdown",
      "metadata": {
        "id": "kNwFlpLG6z_p",
        "colab_type": "text"
      },
      "source": [
        "---\n",
        "---\n",
        "\n",
        "**The below code has comments to show how I got the final code, which is in the above code snippet**\n",
        "\n"
      ]
    },
    {
      "cell_type": "code",
      "metadata": {
        "colab_type": "code",
        "cellView": "both",
        "id": "zq-PsS3zTjLG",
        "colab": {
          "base_uri": "https://localhost:8080/",
          "height": 173
        },
        "outputId": "bf3b2aa3-c358-43b7-d1c4-78355ca8b840"
      },
      "source": [
        "#@title Default title text\n",
        "def annihilate_poly(M, n, k, powersOfM):\n",
        "  #M, matrix, of nxn dimension, k degree of desired polynomial that annihilates\n",
        "  #returns -1 if none exists, else returns coefficients in a vector\n",
        "  import numpy as np\n",
        "\n",
        "  #M = [[5,9,9,7],\n",
        "  #    [5,5,4,5],\n",
        "  #    [6,5,2,1],\n",
        "  #    [1,5,3,7]]\n",
        "  #n = 4\n",
        "  #powersOfM = np.empty((k+1, n, n))\n",
        "  #powersOfM[0] = np.identity(n);\n",
        "  #for i in range(1,k+1):\n",
        "  #  powersOfM[i] = np.matmul(powersOfM[i-1], M)\n",
        "    #print(powersOfM[i-1])\n",
        "  #print(powersOfM[n])\n",
        "\n",
        "  vecPowers = np.empty((n*n, k+1))\n",
        "  for i in range (0, k+1):\n",
        "    vecPowers[:,i] = np.reshape(powersOfM[i], (n*n))\n",
        "  #print(vecPowers)\n",
        "\n",
        "  from scipy.linalg import null_space\n",
        "  ns = null_space(vecPowers)\n",
        "  #print(ns)\n",
        "  #print(np.matmul(vecPowers, ns[:, 0]))\n",
        "  if (ns.size == 0):\n",
        "    return -1\n",
        "  return ns\n",
        "\n",
        "def annihilate_min_deg_poly (M, n):\n",
        "  #finds minimum degree annihilating polynomial of M, an nxn matrix\n",
        "  powersOfM = np.empty((n+1, n, n))\n",
        "  powersOfM[0] = np.identity(n);\n",
        "  for i in range(1,n+1):\n",
        "    powersOfM[i] = np.matmul(powersOfM[i-1], M)\n",
        "  \n",
        "  \n",
        "  \n",
        "  coeff = sillyFunction(M, n, 0, n, powersOfM)\n",
        "  print(\"The minimum degree annihilating polynomial is of degree \")\n",
        "  print(np.prod(coeff.shape) - 1)\n",
        "  t = \"p(M) = \"\n",
        "  for i in range (0, np.prod(coeff.shape) - 1):\n",
        "    t+= str(coeff[i]) + \"*M^\" + str(i) + \" + \"\n",
        "  t+= str(coeff[np.prod(coeff.shape) - 1]) \\\n",
        "    + \"*M^\" + str(np.prod(coeff.shape) - 1)\n",
        "  \n",
        "  print(t)\n",
        "  print(\"Evaluation of p(M)\")\n",
        "  vecPowers = np.empty((n*n, coeff.size))\n",
        "  for i in range (0, coeff.size):\n",
        "    vecPowers[:,i] = np.reshape(powersOfM[i], (n*n))\n",
        "  np.reshape(coeff, (1, coeff.size))\n",
        "\n",
        "  print(\"p(M) = \\n\" + str(np.matmul(vecPowers, coeff)))\n",
        "\n",
        "def sillyFunction(M, n, i, j, powersOfM):\n",
        "  #binary search for degree of min annihilating polynomial\n",
        "  if i == j:\n",
        "    ns = annihilate_poly(M, n, i, powersOfM)\n",
        "    return ns[:, 0]  \n",
        "  k = (i+j)//2\n",
        "  v = annihilate_poly(M, n, k, powersOfM)\n",
        "  if v == -1:\n",
        "    return sillyFunction(M, n, k+1, j, powersOfM)\n",
        "  return sillyFunction(M, n, i, k, powersOfM)\n",
        "\n",
        "M = [[5,9,9,7],\n",
        "     [5,5,4,5],\n",
        "     [6,5,2,1],\n",
        "     [1,5,3,7]]\n",
        "n = 4\n",
        "annihilate_min_deg_poly(M, n);"
      ],
      "execution_count": 41,
      "outputs": [
        {
          "output_type": "stream",
          "text": [
            "The minimum degree annihilating polynomial is of degree \n",
            "4\n",
            "p(M) = 0.7891014296192499*M^0 + 0.6107141383462158*M^1 + -0.05246685037339675*M^2 + -0.039874806283793154*M^3 + 0.0020986740149364635*M^4\n",
            "Evaluation of p(M)\n",
            "p(M) = \n",
            "[ 2.79953838e-12 -1.27897692e-12 -1.74793513e-12 -9.94759830e-13\n",
            " -8.52651283e-13  2.60058641e-12 -4.54747351e-13 -6.67910172e-13\n",
            " -1.24344979e-12 -7.24753590e-13  3.26849658e-12  2.84217094e-13\n",
            "  1.42108547e-13 -7.81597009e-13 -4.68958206e-13  1.81898940e-12]\n"
          ],
          "name": "stdout"
        }
      ]
    }
  ]
}