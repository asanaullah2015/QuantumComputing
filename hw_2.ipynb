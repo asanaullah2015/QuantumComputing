{
    "nbformat": 4,
    "nbformat_minor": 0,
    "metadata": {
        "colab": {
            "name": "hw_1.ipynb",
                "provenance": [],
                "collapsed_sections": [],
                "include_colab_link": false
            },
            "kernelspec": {
                "name": "python3",
                "display_name": "Python 3"
            }
        },
        "cells": [ 
        {
            "cell_type": "markdown",
            "metadata": {
                "id": "sGf-nYo10Klf",
                "colab_type": "text"
            },
            "source": [
                "## HW 1 ##"
            ]
        }
        ]
}
