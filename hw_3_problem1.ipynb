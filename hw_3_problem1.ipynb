{
  "nbformat": 4,
  "nbformat_minor": 0,
  "metadata": {
    "colab": {
      "name": "hw_3_problem1.ipynb",
      "provenance": [],
      "authorship_tag": "ABX9TyPqVkxPCs1J0tQTHIUsPaR/",
      "include_colab_link": true
    },
    "kernelspec": {
      "name": "python3",
      "display_name": "Python 3"
    }
  },
  "cells": [
    {
      "cell_type": "markdown",
      "metadata": {
        "id": "view-in-github",
        "colab_type": "text"
      },
      "source": [
        "<a href=\"https://colab.research.google.com/github/asanaullah2015/cot5600/blob/master/hw_3_problem1.ipynb\" target=\"_parent\"><img src=\"https://colab.research.google.com/assets/colab-badge.svg\" alt=\"Open In Colab\"/></a>"
      ]
    },
    {
      "cell_type": "markdown",
      "metadata": {
        "id": "uXaW0-2tMO3L",
        "colab_type": "text"
      },
      "source": [
        "## HW 3"
      ]
    },
    {
      "cell_type": "markdown",
      "metadata": {
        "id": "aWRaUrVeMTuh",
        "colab_type": "text"
      },
      "source": [
        "### Problem 1"
      ]
    },
    {
      "cell_type": "markdown",
      "metadata": {
        "id": "JC7387_nMarI",
        "colab_type": "text"
      },
      "source": [
        "**Fourier Matrix**\n",
        "\n",
        "The function `get_fourier_matrix(N)` returns the Fourier matrix of size $N$. The following code produces a random size fourier matrix, then checks if it is unitary, if $F_N^4 = I$, and outputs it eigenvalues. "
      ]
    },
    {
      "cell_type": "code",
      "metadata": {
        "id": "T5s0OFi0MKjh",
        "colab_type": "code",
        "outputId": "9a8cdbb5-5ea6-45ff-a0f5-4a8382fa6ea3",
        "colab": {
          "base_uri": "https://localhost:8080/",
          "height": 127
        }
      },
      "source": [
        "import numpy as np\n",
        "import cmath\n",
        "\n",
        "def doubleU(N) -> complex: #returns the Nth root of unity\n",
        "  return cmath.exp(1j*math.pi*2/N)\n",
        "\n",
        "def isUnitary(U):\n",
        "  return (np.allclose(np.matmul(U, U.T.conj()), np.eye(U.shape[1])))\n",
        "\n",
        "def get_fourier_matrix(N):\n",
        "  x = np.eye(N, dtype=complex)\n",
        "  w = doubleU(N)\n",
        "  for k in range(N):\n",
        "    for l in range(N):\n",
        "      x[k][l] = (w**(k*l))/(N**0.5)\n",
        "  return x\n",
        "\n",
        "\n",
        "\n",
        "maxSize = 7\n",
        "x = np.random.randint(4, maxSize)\n",
        "F = get_fourier_matrix(x)\n",
        "#print(\"The Fourier Matrix of size\", x, \":\\n\", F, \"\\n\")         #to print out Fourier Matrix, uncomment this line\n",
        "print(\"The Fourier Matrix of size\", x, \"is\", \"unitary.\" if isUnitary(F) else \"not unitary.\")\n",
        "print(\"F_N^4 = I:\", np.allclose(np.matmul(np.matmul(np.matmul(F, F), F), F), np.eye(x)))\n",
        "print(\"The eigenvalues of F_N:\\n\", np.linalg.eigvals(F))"
      ],
      "execution_count": 0,
      "outputs": [
        {
          "output_type": "stream",
          "text": [
            "The Fourier Matrix of size 6 is unitary.\n",
            "F_N^4 = I: True\n",
            "The eigenvalues of F_N:\n",
            " [ 1.00000000e+00+8.64454656e-17j -1.00000000e+00+4.13154895e-16j\n",
            "  1.44328993e-15+1.00000000e+00j  1.00000000e+00-9.15933995e-16j\n",
            " -1.00000000e+00+1.42555286e-15j -1.21929954e-15-1.00000000e+00j]\n"
          ],
          "name": "stdout"
        }
      ]
    },
    {
      "cell_type": "markdown",
      "metadata": {
        "id": "OjKjJcaSYFxe",
        "colab_type": "text"
      },
      "source": [
        "**Cyclic Shift Matrix**\n",
        "\n",
        "The function `get_cyclic_shift_matrix(N)` returns the cyclic shift matrix of size $N$. The following code produces a random size cylic shift matrix, checks if it is unitary, the checks if its $N$th power is the identity, checks if it's eigenvalues are the $N$th roots of unity, and checks if it is diagonalized by the fourier matrix of size $N$. "
      ]
    },
    {
      "cell_type": "code",
      "metadata": {
        "id": "bqehLyGzZEFL",
        "colab_type": "code",
        "outputId": "528da35a-b03b-4409-d19b-2350f151f091",
        "colab": {
          "base_uri": "https://localhost:8080/",
          "height": 109
        }
      },
      "source": [
        "def Nthpower(U, N):             #N>0\n",
        "  N -=1\n",
        "  u = U\n",
        "  while(N!=0):\n",
        "    u = np.matmul(U, u)\n",
        "    N -= 1\n",
        "  return u\n",
        "\n",
        "def Nthroots(N):\n",
        "  w = doubleU(N)\n",
        "  x = np.empty(N, dtype=complex)\n",
        "  x[0] = w\n",
        "  for i in range(1, N):\n",
        "    x[i] = x[i-1]*w\n",
        "  return x\n",
        "\n",
        "def get_cyclic_shift_matrix(N):\n",
        "  x = np.eye(N)\n",
        "  for k in range(N):\n",
        "    for l in range(N):\n",
        "      x[k][l] = 1 if (l == (k+1)%N) else 0\n",
        "  return x\n",
        "\n",
        "\n",
        "maxSize = 7\n",
        "x = np.random.randint(3, maxSize)\n",
        "C = get_cyclic_shift_matrix(x)\n",
        "#print(C)                                                                   #to print out Matrix, uncomment this line\n",
        "print(\"The Cyclic Shift Matrix of size\", x, \"is\", \"unitary\" if isUnitary(C) else \"not unitary.\")\n",
        "print(\"The\", x, \"th power of the Cyclic Shift Matrix of size\", x, \"is\", \"equal\" if np.allclose(Nthpower(C,x), np.eye(x)) else \"not equal\", \"to the Identity.\")\n",
        "#print(Nthpower(C, 6))                                                      #to print Nth power, uncomment\n",
        "#print(\"\\nThe\", x, \"th roots of unity are\", np.sort_complex(Nthroots(x)))   #to print roots, uncomment\n",
        "#print(\"The eigenvalues of the cyclic shift matrix are\", np.sort_complex(np.linalg.eigvals(C)))      #to print egienvalues, uncomment\n",
        "print(\"\\nThe eigenvalues = the\", x, \"th roots of unity:\", np.allclose(np.sort_complex(np.linalg.eigvals(C)), np.sort_complex(Nthroots(x))))\n",
        "F = get_fourier_matrix(x)\n",
        "FCF = np.matmul(np.matmul(F.T.conj(), C), F)\n",
        "#print(FCF)                                                                 #uncomment to print FCF\n",
        "FCFDiagonalRemoved = FCF - np.diag(np.diag(FCF))\n",
        "#print(FCFDiagonalRemoved)                                                  #uncomment to print FCF after removal of diagonal\n",
        "print(\"The Cyclic Shift Matrix of size\", x, \"is\", \"diagonalized\" if np.allclose(np.zeros((x,x)), FCFDiagonalRemoved) else \"not diagonalized\", \"by the Fourier matrix.\")"
      ],
      "execution_count": 0,
      "outputs": [
        {
          "output_type": "stream",
          "text": [
            "The Cyclic Shift Matrix of size 4 is unitary\n",
            "The 4 th power of the Cyclic Shift Matrix of size 4 is equal to the Identity.\n",
            "\n",
            "The eigenvalues = the 4 th roots of unity: True\n",
            "The Cyclic Shift Matrix of size 4 is diagonalized by the Fourier matrix.\n"
          ],
          "name": "stdout"
        }
      ]
    },
    {
      "cell_type": "markdown",
      "metadata": {
        "id": "YQirwu1gBc9K",
        "colab_type": "text"
      },
      "source": [
        "### Problem 2"
      ]
    },
    {
      "cell_type": "markdown",
      "metadata": {
        "id": "iNXlPe2cxP96",
        "colab_type": "text"
      },
      "source": [
        "See https://github.com/asanaullah2015/cot5600/blob/master/hw_4_problem2.ipynb for problem 2. I had a problem running this in google colab, so I had to download jupyter notebook and run it locally."
      ]
    }
  ]
}