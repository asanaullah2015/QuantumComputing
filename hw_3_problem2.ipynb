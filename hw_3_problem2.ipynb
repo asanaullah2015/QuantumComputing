{
 "cells": [
  {
   "cell_type": "markdown",
   "metadata": {},
   "source": [
    "## Set Up and Testing"
   ]
  },
  {
   "cell_type": "code",
   "execution_count": 1,
   "metadata": {
    "collapsed": true
   },
   "outputs": [
    {
     "name": "stdout",
     "output_type": "stream",
     "text": [
      "Collecting qiskit\n",
      "  Downloading qiskit-0.18.0.tar.gz (3.9 kB)\n",
      "Collecting qiskit-terra==0.13.0\n",
      "  Downloading qiskit_terra-0.13.0-cp37-cp37m-win_amd64.whl (2.3 MB)\n",
      "Collecting qiskit-aer==0.5.0\n",
      "  Downloading qiskit_aer-0.5.0-cp37-cp37m-win_amd64.whl (14.4 MB)\n",
      "Collecting qiskit-ibmq-provider==0.6.0\n",
      "  Downloading qiskit_ibmq_provider-0.6.0-py3-none-any.whl (149 kB)\n",
      "Collecting qiskit-ignis==0.3.0\n",
      "  Downloading qiskit_ignis-0.3.0-py3-none-any.whl (172 kB)\n",
      "Collecting qiskit-aqua==0.6.5\n",
      "  Downloading qiskit_aqua-0.6.5-py3-none-any.whl (1.8 MB)\n",
      "Requirement already satisfied: ply>=3.10 in c:\\users\\asn\\anaconda3\\lib\\site-packages (from qiskit-terra==0.13.0->qiskit) (3.11)\n",
      "Collecting marshmallow<4,>=3\n",
      "  Downloading marshmallow-3.5.1-py2.py3-none-any.whl (45 kB)\n",
      "Requirement already satisfied: sympy>=1.3 in c:\\users\\asn\\anaconda3\\lib\\site-packages (from qiskit-terra==0.13.0->qiskit) (1.5.1)\n",
      "Collecting python-constraint>=1.4\n",
      "  Downloading python-constraint-1.4.0.tar.bz2 (18 kB)\n",
      "Requirement already satisfied: networkx>=2.2; python_version > \"3.5\" in c:\\users\\asn\\anaconda3\\lib\\site-packages (from qiskit-terra==0.13.0->qiskit) (2.4)\n",
      "Collecting fastjsonschema>=2.10\n",
      "  Downloading fastjsonschema-2.14.4-py3-none-any.whl (21 kB)\n",
      "Requirement already satisfied: psutil>=5 in c:\\users\\asn\\anaconda3\\lib\\site-packages (from qiskit-terra==0.13.0->qiskit) (5.6.7)\n",
      "Collecting dill>=0.3\n",
      "  Downloading dill-0.3.1.1.tar.gz (151 kB)\n",
      "Requirement already satisfied: scipy>=1.0 in c:\\users\\asn\\anaconda3\\lib\\site-packages (from qiskit-terra==0.13.0->qiskit) (1.4.1)\n",
      "Requirement already satisfied: numpy>=1.13 in c:\\users\\asn\\anaconda3\\lib\\site-packages (from qiskit-terra==0.13.0->qiskit) (1.18.1)\n",
      "Collecting retworkx>=0.3.2\n",
      "  Downloading retworkx-0.3.3-cp37-cp37m-win_amd64.whl (165 kB)\n",
      "Collecting marshmallow-polyfield<6,>=5.7\n",
      "  Downloading marshmallow-polyfield-5.9.tar.gz (8.5 kB)\n",
      "Requirement already satisfied: jsonschema>=2.6 in c:\\users\\asn\\anaconda3\\lib\\site-packages (from qiskit-terra==0.13.0->qiskit) (3.2.0)\n",
      "Collecting pybind11>=2.4\n",
      "  Downloading pybind11-2.5.0-py2.py3-none-any.whl (296 kB)\n",
      "Requirement already satisfied: cython>=0.27.1 in c:\\users\\asn\\anaconda3\\lib\\site-packages (from qiskit-aer==0.5.0->qiskit) (0.29.15)\n",
      "Collecting requests-ntlm>=1.1.0\n",
      "  Downloading requests_ntlm-1.1.0-py2.py3-none-any.whl (5.7 kB)\n",
      "Requirement already satisfied: requests>=2.19 in c:\\users\\asn\\anaconda3\\lib\\site-packages (from qiskit-ibmq-provider==0.6.0->qiskit) (2.22.0)\n",
      "Collecting nest-asyncio!=1.1.0,>=1.0.0\n",
      "  Downloading nest_asyncio-1.3.2-py3-none-any.whl (4.7 kB)\n",
      "Collecting arrow>=0.15.5\n",
      "  Downloading arrow-0.15.5-py2.py3-none-any.whl (46 kB)\n",
      "Collecting websockets<8,>=7\n",
      "  Downloading websockets-7.0-cp37-cp37m-win_amd64.whl (58 kB)\n",
      "Requirement already satisfied: setuptools>=40.1.0 in c:\\users\\asn\\anaconda3\\lib\\site-packages (from qiskit-ignis==0.3.0->qiskit) (45.2.0.post20200210)\n",
      "Requirement already satisfied: h5py in c:\\users\\asn\\anaconda3\\lib\\site-packages (from qiskit-aqua==0.6.5->qiskit) (2.10.0)\n",
      "Collecting quandl\n",
      "  Downloading Quandl-3.5.0-py2.py3-none-any.whl (25 kB)\n",
      "Collecting fastdtw\n",
      "  Downloading fastdtw-0.3.4.tar.gz (133 kB)\n",
      "Requirement already satisfied: scikit-learn>=0.20.0 in c:\\users\\asn\\anaconda3\\lib\\site-packages (from qiskit-aqua==0.6.5->qiskit) (0.22.1)\n",
      "Collecting docplex\n",
      "  Downloading docplex-2.13.184.tar.gz (571 kB)\n",
      "Collecting dlx\n",
      "  Downloading dlx-1.0.4.tar.gz (5.5 kB)\n",
      "Requirement already satisfied: mpmath>=0.19 in c:\\users\\asn\\anaconda3\\lib\\site-packages (from sympy>=1.3->qiskit-terra==0.13.0->qiskit) (1.1.0)\n",
      "Requirement already satisfied: decorator>=4.3.0 in c:\\users\\asn\\anaconda3\\lib\\site-packages (from networkx>=2.2; python_version > \"3.5\"->qiskit-terra==0.13.0->qiskit) (4.4.1)\n",
      "Requirement already satisfied: pyrsistent>=0.14.0 in c:\\users\\asn\\anaconda3\\lib\\site-packages (from jsonschema>=2.6->qiskit-terra==0.13.0->qiskit) (0.15.7)\n",
      "Requirement already satisfied: six>=1.11.0 in c:\\users\\asn\\anaconda3\\lib\\site-packages (from jsonschema>=2.6->qiskit-terra==0.13.0->qiskit) (1.14.0)\n",
      "Requirement already satisfied: attrs>=17.4.0 in c:\\users\\asn\\anaconda3\\lib\\site-packages (from jsonschema>=2.6->qiskit-terra==0.13.0->qiskit) (19.3.0)\n",
      "Requirement already satisfied: importlib-metadata; python_version < \"3.8\" in c:\\users\\asn\\anaconda3\\lib\\site-packages (from jsonschema>=2.6->qiskit-terra==0.13.0->qiskit) (1.5.0)\n",
      "Collecting ntlm-auth>=1.0.2\n",
      "  Downloading ntlm_auth-1.4.0-py2.py3-none-any.whl (29 kB)\n",
      "Requirement already satisfied: cryptography>=1.3 in c:\\users\\asn\\anaconda3\\lib\\site-packages (from requests-ntlm>=1.1.0->qiskit-ibmq-provider==0.6.0->qiskit) (2.8)\n",
      "Requirement already satisfied: certifi>=2017.4.17 in c:\\users\\asn\\anaconda3\\lib\\site-packages (from requests>=2.19->qiskit-ibmq-provider==0.6.0->qiskit) (2019.11.28)\n",
      "Requirement already satisfied: idna<2.9,>=2.5 in c:\\users\\asn\\anaconda3\\lib\\site-packages (from requests>=2.19->qiskit-ibmq-provider==0.6.0->qiskit) (2.8)\n",
      "Requirement already satisfied: urllib3!=1.25.0,!=1.25.1,<1.26,>=1.21.1 in c:\\users\\asn\\anaconda3\\lib\\site-packages (from requests>=2.19->qiskit-ibmq-provider==0.6.0->qiskit) (1.25.8)\n",
      "Requirement already satisfied: chardet<3.1.0,>=3.0.2 in c:\\users\\asn\\anaconda3\\lib\\site-packages (from requests>=2.19->qiskit-ibmq-provider==0.6.0->qiskit) (3.0.4)\n",
      "Requirement already satisfied: python-dateutil in c:\\users\\asn\\anaconda3\\lib\\site-packages (from arrow>=0.15.5->qiskit-ibmq-provider==0.6.0->qiskit) (2.8.1)\n",
      "Requirement already satisfied: pandas>=0.14 in c:\\users\\asn\\anaconda3\\lib\\site-packages (from quandl->qiskit-aqua==0.6.5->qiskit) (1.0.1)\n",
      "Requirement already satisfied: more-itertools in c:\\users\\asn\\anaconda3\\lib\\site-packages (from quandl->qiskit-aqua==0.6.5->qiskit) (8.2.0)\n",
      "Collecting inflection>=0.3.1\n",
      "  Downloading inflection-0.4.0-py2.py3-none-any.whl (5.8 kB)\n",
      "Requirement already satisfied: joblib>=0.11 in c:\\users\\asn\\anaconda3\\lib\\site-packages (from scikit-learn>=0.20.0->qiskit-aqua==0.6.5->qiskit) (0.14.1)\n",
      "Requirement already satisfied: zipp>=0.5 in c:\\users\\asn\\anaconda3\\lib\\site-packages (from importlib-metadata; python_version < \"3.8\"->jsonschema>=2.6->qiskit-terra==0.13.0->qiskit) (2.2.0)\n",
      "Requirement already satisfied: cffi!=1.11.3,>=1.8 in c:\\users\\asn\\anaconda3\\lib\\site-packages (from cryptography>=1.3->requests-ntlm>=1.1.0->qiskit-ibmq-provider==0.6.0->qiskit) (1.14.0)\n",
      "Requirement already satisfied: pytz>=2017.2 in c:\\users\\asn\\anaconda3\\lib\\site-packages (from pandas>=0.14->quandl->qiskit-aqua==0.6.5->qiskit) (2019.3)\n",
      "Requirement already satisfied: pycparser in c:\\users\\asn\\anaconda3\\lib\\site-packages (from cffi!=1.11.3,>=1.8->cryptography>=1.3->requests-ntlm>=1.1.0->qiskit-ibmq-provider==0.6.0->qiskit) (2.19)\n",
      "Building wheels for collected packages: qiskit, python-constraint, dill, marshmallow-polyfield, fastdtw, docplex, dlx\n",
      "  Building wheel for qiskit (setup.py): started\n",
      "  Building wheel for qiskit (setup.py): finished with status 'done'\n",
      "  Created wheel for qiskit: filename=qiskit-0.18.0-py3-none-any.whl size=2901 sha256=dad4bfe82ede82e8d2223c54bf82dd0a384e7e8aebba31c72c7044a3a0fca88e\n",
      "  Stored in directory: c:\\users\\asn\\appdata\\local\\pip\\cache\\wheels\\d0\\6a\\08\\99a2480dcdd5e4b7649a0fcfd3d8509eff4b4a7ee0f7d0cb0c\n",
      "  Building wheel for python-constraint (setup.py): started\n",
      "  Building wheel for python-constraint (setup.py): finished with status 'done'\n",
      "  Created wheel for python-constraint: filename=python_constraint-1.4.0-py2.py3-none-any.whl size=24085 sha256=26ed52e5a533a98d98fc5a48b9dcef934cffcdd51d72ea28d3a96cc89cccc8e6\n",
      "  Stored in directory: c:\\users\\asn\\appdata\\local\\pip\\cache\\wheels\\07\\27\\db\\1222c80eb1e431f3d2199c12569cb1cac60f562a451fe30479\n",
      "  Building wheel for dill (setup.py): started\n",
      "  Building wheel for dill (setup.py): finished with status 'done'\n",
      "  Created wheel for dill: filename=dill-0.3.1.1-py3-none-any.whl size=78597 sha256=28e5e7475649cc29182d266dd91e75f073ab16e8382c7eaea8aa12c4e05c2b79\n",
      "  Stored in directory: c:\\users\\asn\\appdata\\local\\pip\\cache\\wheels\\a4\\61\\fd\\c57e374e580aa78a45ed78d5859b3a44436af17e22ca53284f\n",
      "  Building wheel for marshmallow-polyfield (setup.py): started\n",
      "  Building wheel for marshmallow-polyfield (setup.py): finished with status 'done'\n",
      "  Created wheel for marshmallow-polyfield: filename=marshmallow_polyfield-5.9-py3-none-any.whl size=8542 sha256=4278d4703231554201f499d3eac59d9897927bcf50656a6e68af21dd3a43ea65\n",
      "  Stored in directory: c:\\users\\asn\\appdata\\local\\pip\\cache\\wheels\\6c\\8b\\16\\ef4ebfaa9efaf04fbbb9e9cfc997811b74ba691081630deb0f\n",
      "  Building wheel for fastdtw (setup.py): started\n",
      "  Building wheel for fastdtw (setup.py): finished with status 'done'\n",
      "  Created wheel for fastdtw: filename=fastdtw-0.3.4-py3-none-any.whl size=3594 sha256=786baa2a88799753f4cc618b8e94e268c096749b04798b1ed1c95fd828bd0ad4\n",
      "  Stored in directory: c:\\users\\asn\\appdata\\local\\pip\\cache\\wheels\\a2\\da\\8c\\2d1b9b233595056f05e59156bb555f7277b88beb385605de16\n",
      "  Building wheel for docplex (setup.py): started\n",
      "  Building wheel for docplex (setup.py): finished with status 'done'\n",
      "  Created wheel for docplex: filename=docplex-2.13.184-py3-none-any.whl size=633102 sha256=ffc089f39a72da06721429b4f6cecaa22b2a30345db55d277603235cd705eca5\n",
      "  Stored in directory: c:\\users\\asn\\appdata\\local\\pip\\cache\\wheels\\1b\\93\\ac\\b2f5c3371073ec3c95f62d2bfbd1d128d02b45c53f0666992b\n",
      "  Building wheel for dlx (setup.py): started\n",
      "  Building wheel for dlx (setup.py): finished with status 'done'\n",
      "  Created wheel for dlx: filename=dlx-1.0.4-py3-none-any.whl size=5715 sha256=7623fd17b0539da3a93afbda11616f71757ee88564f465fb1baa4e1131c24992\n",
      "  Stored in directory: c:\\users\\asn\\appdata\\local\\pip\\cache\\wheels\\78\\55\\c8\\dc61e772445a566b7608a476d151e9dcaf4e092b01b0c4bc3c\n",
      "Successfully built qiskit python-constraint dill marshmallow-polyfield fastdtw docplex dlx\n",
      "Installing collected packages: marshmallow, python-constraint, fastjsonschema, dill, retworkx, marshmallow-polyfield, qiskit-terra, pybind11, qiskit-aer, ntlm-auth, requests-ntlm, nest-asyncio, arrow, websockets, qiskit-ibmq-provider, qiskit-ignis, inflection, quandl, fastdtw, docplex, dlx, qiskit-aqua, qiskit\n",
      "Successfully installed arrow-0.15.5 dill-0.3.1.1 dlx-1.0.4 docplex-2.13.184 fastdtw-0.3.4 fastjsonschema-2.14.4 inflection-0.4.0 marshmallow-3.5.1 marshmallow-polyfield-5.9 nest-asyncio-1.3.2 ntlm-auth-1.4.0 pybind11-2.5.0 python-constraint-1.4.0 qiskit-0.18.0 qiskit-aer-0.5.0 qiskit-aqua-0.6.5 qiskit-ibmq-provider-0.6.0 qiskit-ignis-0.3.0 qiskit-terra-0.13.0 quandl-3.5.0 requests-ntlm-1.1.0 retworkx-0.3.3 websockets-7.0\n"
     ]
    },
    {
     "name": "stdout",
     "output_type": "stream",
     "text": [
      "Requirement already satisfied: qiskit[visualization] in c:\\users\\asn\\anaconda3\\lib\\site-packages (0.18.0)\n",
      "Requirement already satisfied: qiskit-ignis==0.3.0 in c:\\users\\asn\\anaconda3\\lib\\site-packages (from qiskit[visualization]) (0.3.0)\n",
      "Requirement already satisfied: qiskit-aer==0.5.0 in c:\\users\\asn\\anaconda3\\lib\\site-packages (from qiskit[visualization]) (0.5.0)\n",
      "Requirement already satisfied: qiskit-ibmq-provider==0.6.0 in c:\\users\\asn\\anaconda3\\lib\\site-packages (from qiskit[visualization]) (0.6.0)\n",
      "Requirement already satisfied: qiskit-terra==0.13.0 in c:\\users\\asn\\anaconda3\\lib\\site-packages (from qiskit[visualization]) (0.13.0)\n",
      "Requirement already satisfied: qiskit-aqua==0.6.5 in c:\\users\\asn\\anaconda3\\lib\\site-packages (from qiskit[visualization]) (0.6.5)\n",
      "Requirement already satisfied: numpy>=1.13 in c:\\users\\asn\\anaconda3\\lib\\site-packages (from qiskit-ignis==0.3.0->qiskit[visualization]) (1.18.1)\n",
      "Requirement already satisfied: setuptools>=40.1.0 in c:\\users\\asn\\anaconda3\\lib\\site-packages (from qiskit-ignis==0.3.0->qiskit[visualization]) (45.2.0.post20200210)\n",
      "Requirement already satisfied: scipy!=0.19.1,>=0.19 in c:\\users\\asn\\anaconda3\\lib\\site-packages (from qiskit-ignis==0.3.0->qiskit[visualization]) (1.4.1)\n",
      "Requirement already satisfied: pybind11>=2.4 in c:\\users\\asn\\anaconda3\\lib\\site-packages (from qiskit-aer==0.5.0->qiskit[visualization]) (2.5.0)\n",
      "Requirement already satisfied: cython>=0.27.1 in c:\\users\\asn\\anaconda3\\lib\\site-packages (from qiskit-aer==0.5.0->qiskit[visualization]) (0.29.15)\n",
      "Requirement already satisfied: websockets<8,>=7 in c:\\users\\asn\\anaconda3\\lib\\site-packages (from qiskit-ibmq-provider==0.6.0->qiskit[visualization]) (7.0)\n",
      "Requirement already satisfied: arrow>=0.15.5 in c:\\users\\asn\\anaconda3\\lib\\site-packages (from qiskit-ibmq-provider==0.6.0->qiskit[visualization]) (0.15.5)\n",
      "Requirement already satisfied: requests-ntlm>=1.1.0 in c:\\users\\asn\\anaconda3\\lib\\site-packages (from qiskit-ibmq-provider==0.6.0->qiskit[visualization]) (1.1.0)\n",
      "Requirement already satisfied: requests>=2.19 in c:\\users\\asn\\anaconda3\\lib\\site-packages (from qiskit-ibmq-provider==0.6.0->qiskit[visualization]) (2.22.0)\n",
      "Requirement already satisfied: nest-asyncio!=1.1.0,>=1.0.0 in c:\\users\\asn\\anaconda3\\lib\\site-packages (from qiskit-ibmq-provider==0.6.0->qiskit[visualization]) (1.3.2)\n",
      "Requirement already satisfied: marshmallow<4,>=3 in c:\\users\\asn\\anaconda3\\lib\\site-packages (from qiskit-terra==0.13.0->qiskit[visualization]) (3.5.1)\n",
      "Requirement already satisfied: sympy>=1.3 in c:\\users\\asn\\anaconda3\\lib\\site-packages (from qiskit-terra==0.13.0->qiskit[visualization]) (1.5.1)\n",
      "Requirement already satisfied: python-constraint>=1.4 in c:\\users\\asn\\anaconda3\\lib\\site-packages (from qiskit-terra==0.13.0->qiskit[visualization]) (1.4.0)\n",
      "Requirement already satisfied: networkx>=2.2; python_version > \"3.5\" in c:\\users\\asn\\anaconda3\\lib\\site-packages (from qiskit-terra==0.13.0->qiskit[visualization]) (2.4)\n",
      "Requirement already satisfied: ply>=3.10 in c:\\users\\asn\\anaconda3\\lib\\site-packages (from qiskit-terra==0.13.0->qiskit[visualization]) (3.11)\n",
      "Requirement already satisfied: marshmallow-polyfield<6,>=5.7 in c:\\users\\asn\\anaconda3\\lib\\site-packages (from qiskit-terra==0.13.0->qiskit[visualization]) (5.9)\n",
      "Requirement already satisfied: retworkx>=0.3.2 in c:\\users\\asn\\anaconda3\\lib\\site-packages (from qiskit-terra==0.13.0->qiskit[visualization]) (0.3.3)\n",
      "Requirement already satisfied: fastjsonschema>=2.10 in c:\\users\\asn\\anaconda3\\lib\\site-packages (from qiskit-terra==0.13.0->qiskit[visualization]) (2.14.4)\n",
      "Requirement already satisfied: jsonschema>=2.6 in c:\\users\\asn\\anaconda3\\lib\\site-packages (from qiskit-terra==0.13.0->qiskit[visualization]) (3.2.0)\n",
      "Requirement already satisfied: psutil>=5 in c:\\users\\asn\\anaconda3\\lib\\site-packages (from qiskit-terra==0.13.0->qiskit[visualization]) (5.6.7)\n",
      "Requirement already satisfied: dill>=0.3 in c:\\users\\asn\\anaconda3\\lib\\site-packages (from qiskit-terra==0.13.0->qiskit[visualization]) (0.3.1.1)\n",
      "Requirement already satisfied: fastdtw in c:\\users\\asn\\anaconda3\\lib\\site-packages (from qiskit-aqua==0.6.5->qiskit[visualization]) (0.3.4)\n",
      "Requirement already satisfied: scikit-learn>=0.20.0 in c:\\users\\asn\\anaconda3\\lib\\site-packages (from qiskit-aqua==0.6.5->qiskit[visualization]) (0.22.1)\n",
      "Requirement already satisfied: h5py in c:\\users\\asn\\anaconda3\\lib\\site-packages (from qiskit-aqua==0.6.5->qiskit[visualization]) (2.10.0)\n",
      "Requirement already satisfied: dlx in c:\\users\\asn\\anaconda3\\lib\\site-packages (from qiskit-aqua==0.6.5->qiskit[visualization]) (1.0.4)\n",
      "Requirement already satisfied: docplex in c:\\users\\asn\\anaconda3\\lib\\site-packages (from qiskit-aqua==0.6.5->qiskit[visualization]) (2.13.184)\n",
      "Requirement already satisfied: quandl in c:\\users\\asn\\anaconda3\\lib\\site-packages (from qiskit-aqua==0.6.5->qiskit[visualization]) (3.5.0)\n",
      "Requirement already satisfied: python-dateutil in c:\\users\\asn\\anaconda3\\lib\\site-packages (from arrow>=0.15.5->qiskit-ibmq-provider==0.6.0->qiskit[visualization]) (2.8.1)\n",
      "Requirement already satisfied: ntlm-auth>=1.0.2 in c:\\users\\asn\\anaconda3\\lib\\site-packages (from requests-ntlm>=1.1.0->qiskit-ibmq-provider==0.6.0->qiskit[visualization]) (1.4.0)\n",
      "Requirement already satisfied: cryptography>=1.3 in c:\\users\\asn\\anaconda3\\lib\\site-packages (from requests-ntlm>=1.1.0->qiskit-ibmq-provider==0.6.0->qiskit[visualization]) (2.8)\n",
      "Requirement already satisfied: certifi>=2017.4.17 in c:\\users\\asn\\anaconda3\\lib\\site-packages (from requests>=2.19->qiskit-ibmq-provider==0.6.0->qiskit[visualization]) (2019.11.28)\n",
      "Requirement already satisfied: chardet<3.1.0,>=3.0.2 in c:\\users\\asn\\anaconda3\\lib\\site-packages (from requests>=2.19->qiskit-ibmq-provider==0.6.0->qiskit[visualization]) (3.0.4)\n",
      "Requirement already satisfied: idna<2.9,>=2.5 in c:\\users\\asn\\anaconda3\\lib\\site-packages (from requests>=2.19->qiskit-ibmq-provider==0.6.0->qiskit[visualization]) (2.8)\n",
      "Requirement already satisfied: urllib3!=1.25.0,!=1.25.1,<1.26,>=1.21.1 in c:\\users\\asn\\anaconda3\\lib\\site-packages (from requests>=2.19->qiskit-ibmq-provider==0.6.0->qiskit[visualization]) (1.25.8)\n",
      "Requirement already satisfied: mpmath>=0.19 in c:\\users\\asn\\anaconda3\\lib\\site-packages (from sympy>=1.3->qiskit-terra==0.13.0->qiskit[visualization]) (1.1.0)\n",
      "Requirement already satisfied: decorator>=4.3.0 in c:\\users\\asn\\anaconda3\\lib\\site-packages (from networkx>=2.2; python_version > \"3.5\"->qiskit-terra==0.13.0->qiskit[visualization]) (4.4.1)\n",
      "Requirement already satisfied: importlib-metadata; python_version < \"3.8\" in c:\\users\\asn\\anaconda3\\lib\\site-packages (from jsonschema>=2.6->qiskit-terra==0.13.0->qiskit[visualization]) (1.5.0)\n",
      "Requirement already satisfied: attrs>=17.4.0 in c:\\users\\asn\\anaconda3\\lib\\site-packages (from jsonschema>=2.6->qiskit-terra==0.13.0->qiskit[visualization]) (19.3.0)\n",
      "Requirement already satisfied: six>=1.11.0 in c:\\users\\asn\\anaconda3\\lib\\site-packages (from jsonschema>=2.6->qiskit-terra==0.13.0->qiskit[visualization]) (1.14.0)\n",
      "Requirement already satisfied: pyrsistent>=0.14.0 in c:\\users\\asn\\anaconda3\\lib\\site-packages (from jsonschema>=2.6->qiskit-terra==0.13.0->qiskit[visualization]) (0.15.7)\n",
      "Requirement already satisfied: joblib>=0.11 in c:\\users\\asn\\anaconda3\\lib\\site-packages (from scikit-learn>=0.20.0->qiskit-aqua==0.6.5->qiskit[visualization]) (0.14.1)\n",
      "Requirement already satisfied: pandas>=0.14 in c:\\users\\asn\\anaconda3\\lib\\site-packages (from quandl->qiskit-aqua==0.6.5->qiskit[visualization]) (1.0.1)\n",
      "Requirement already satisfied: inflection>=0.3.1 in c:\\users\\asn\\anaconda3\\lib\\site-packages (from quandl->qiskit-aqua==0.6.5->qiskit[visualization]) (0.4.0)\n",
      "Requirement already satisfied: more-itertools in c:\\users\\asn\\anaconda3\\lib\\site-packages (from quandl->qiskit-aqua==0.6.5->qiskit[visualization]) (8.2.0)\n",
      "Requirement already satisfied: cffi!=1.11.3,>=1.8 in c:\\users\\asn\\anaconda3\\lib\\site-packages (from cryptography>=1.3->requests-ntlm>=1.1.0->qiskit-ibmq-provider==0.6.0->qiskit[visualization]) (1.14.0)\n",
      "Requirement already satisfied: zipp>=0.5 in c:\\users\\asn\\anaconda3\\lib\\site-packages (from importlib-metadata; python_version < \"3.8\"->jsonschema>=2.6->qiskit-terra==0.13.0->qiskit[visualization]) (2.2.0)\n",
      "Requirement already satisfied: pytz>=2017.2 in c:\\users\\asn\\anaconda3\\lib\\site-packages (from pandas>=0.14->quandl->qiskit-aqua==0.6.5->qiskit[visualization]) (2019.3)\n",
      "Requirement already satisfied: pycparser in c:\\users\\asn\\anaconda3\\lib\\site-packages (from cffi!=1.11.3,>=1.8->cryptography>=1.3->requests-ntlm>=1.1.0->qiskit-ibmq-provider==0.6.0->qiskit[visualization]) (2.19)\n"
     ]
    },
    {
     "name": "stderr",
     "output_type": "stream",
     "text": [
      "  WARNING: qiskit 0.18.0 does not provide the extra 'visualization'\n"
     ]
    }
   ],
   "source": [
    "!pip install qiskit\n",
    "!pip install qiskit[visualization]"
   ]
  },
  {
   "cell_type": "code",
   "execution_count": 3,
   "metadata": {},
   "outputs": [
    {
     "data": {
      "text/plain": [
       "'0.13.0'"
      ]
     },
     "execution_count": 3,
     "metadata": {},
     "output_type": "execute_result"
    }
   ],
   "source": [
    "import qiskit\n",
    "qiskit.__version__"
   ]
  },
  {
   "cell_type": "code",
   "execution_count": 19,
   "metadata": {},
   "outputs": [
    {
     "name": "stderr",
     "output_type": "stream",
     "text": [
      "ibmqfactory.load_account:WARNING:2020-04-17 14:26:56,521: Credentials are already in use. The existing account in the session will be replaced.\n"
     ]
    },
    {
     "data": {
      "text/html": [
       "<pre style=\"word-wrap: normal;white-space: pre;background: #fff0;line-height: 1.1;font-family: &quot;Courier New&quot;,Courier,monospace\">     ┌───┐          ┌───┐\n",
       "q_0: ┤ H ├───────■──┤ H ├\n",
       "     ├───┤┌───┐┌─┴─┐└───┘\n",
       "q_1: ┤ X ├┤ H ├┤ X ├─────\n",
       "     └───┘└───┘└───┘     </pre>"
      ],
      "text/plain": [
       "     ┌───┐          ┌───┐\n",
       "q_0: ┤ H ├───────■──┤ H ├\n",
       "     ├───┤┌───┐┌─┴─┐└───┘\n",
       "q_1: ┤ X ├┤ H ├┤ X ├─────\n",
       "     └───┘└───┘└───┘     "
      ]
     },
     "execution_count": 19,
     "metadata": {},
     "output_type": "execute_result"
    }
   ],
   "source": [
    "#qiskit.IBMQ.save_account('My_API_Token')\n",
    "#\n",
    "provider = qiskit.IBMQ.load_account()\n",
    "from qiskit.tools.jupyter import *\n",
    "from qiskit import QuantumCircuit, execute, Aer, IBMQ\n",
    "from qiskit.compiler import transpile, assemble\n",
    "from qiskit.tools.jupyter import *\n",
    "from qiskit.visualization import *\n"
   ]
  },
  {
   "cell_type": "code",
   "execution_count": 20,
   "metadata": {
    "scrolled": true
   },
   "outputs": [
    {
     "data": {
      "text/html": [
       "<pre style=\"word-wrap: normal;white-space: pre;background: #fff0;line-height: 1.1;font-family: &quot;Courier New&quot;,Courier,monospace\">     ┌───┐          ┌───┐\n",
       "q_0: ┤ H ├───────■──┤ H ├\n",
       "     ├───┤┌───┐┌─┴─┐└───┘\n",
       "q_1: ┤ X ├┤ H ├┤ X ├─────\n",
       "     └───┘└───┘└───┘     </pre>"
      ],
      "text/plain": [
       "     ┌───┐          ┌───┐\n",
       "q_0: ┤ H ├───────■──┤ H ├\n",
       "     ├───┤┌───┐┌─┴─┐└───┘\n",
       "q_1: ┤ X ├┤ H ├┤ X ├─────\n",
       "     └───┘└───┘└───┘     "
      ]
     },
     "execution_count": 20,
     "metadata": {},
     "output_type": "execute_result"
    }
   ],
   "source": [
    "circ = QuantumCircuit(2)\n",
    "circ.h(0)\n",
    "circ.x(1)\n",
    "circ.h(1)\n",
    "\n",
    "# identity function\n",
    "circ.cx(0, 1)\n",
    "\n",
    "circ.h(0)\n",
    "circ.draw()"
   ]
  },
  {
   "cell_type": "code",
   "execution_count": 21,
   "metadata": {},
   "outputs": [
    {
     "data": {
      "text/html": [
       "<pre style=\"word-wrap: normal;white-space: pre;background: #fff0;line-height: 1.1;font-family: &quot;Courier New&quot;,Courier,monospace\">     ┌───┐          ┌───┐ ░ ┌─┐\n",
       "q_0: ┤ H ├───────■──┤ H ├─░─┤M├\n",
       "     ├───┤┌───┐┌─┴─┐└───┘ ░ └╥┘\n",
       "q_1: ┤ X ├┤ H ├┤ X ├──────░──╫─\n",
       "     └───┘└───┘└───┘      ░  ║ \n",
       "c_0: ════════════════════════╩═\n",
       "                               </pre>"
      ],
      "text/plain": [
       "     ┌───┐          ┌───┐ ░ ┌─┐\n",
       "q_0: ┤ H ├───────■──┤ H ├─░─┤M├\n",
       "     ├───┤┌───┐┌─┴─┐└───┘ ░ └╥┘\n",
       "q_1: ┤ X ├┤ H ├┤ X ├──────░──╫─\n",
       "     └───┘└───┘└───┘      ░  ║ \n",
       "c_0: ════════════════════════╩═\n",
       "                               "
      ]
     },
     "execution_count": 21,
     "metadata": {},
     "output_type": "execute_result"
    }
   ],
   "source": [
    "meas = QuantumCircuit(2, 1)\n",
    "meas.barrier(range(2))\n",
    "meas.measure(range(1),range(1))\n",
    "qc = circ+meas\n",
    "qc.draw()\n",
    "\n"
   ]
  },
  {
   "cell_type": "code",
   "execution_count": 22,
   "metadata": {},
   "outputs": [
    {
     "name": "stdout",
     "output_type": "stream",
     "text": [
      "{'1': 1024}\n"
     ]
    }
   ],
   "source": [
    "# Use Aer's qasm_simulator\n",
    "backend_sim = Aer.get_backend('qasm_simulator')\n",
    "\n",
    "# Execute the circuit on the qasm simulator.\n",
    "# We've set the number of repeats of the circuit\n",
    "# to be 1024, which is the default.\n",
    "job_sim = execute(qc, backend_sim, shots=1024)\n",
    "\n",
    "# Grab the results from the job.\n",
    "result_sim = job_sim.result()\n",
    "counts = result_sim.get_counts(qc)\n",
    "print(counts)\n"
   ]
  },
  {
   "cell_type": "markdown",
   "metadata": {},
   "source": [
    "## Problem 2\n",
    "\n",
    "Run set up (code block directly below) once before running other code blocks "
   ]
  },
  {
   "cell_type": "code",
   "execution_count": 20,
   "metadata": {},
   "outputs": [
    {
     "name": "stderr",
     "output_type": "stream",
     "text": [
      "ibmqfactory.load_account:WARNING:2020-04-17 14:48:41,957: Credentials are already in use. The existing account in the session will be replaced.\n"
     ]
    }
   ],
   "source": [
    "#set up\n",
    "import qiskit\n",
    "provider = qiskit.IBMQ.load_account()\n",
    "from qiskit.tools.jupyter import *\n",
    "from qiskit import QuantumCircuit, execute, Aer, IBMQ\n",
    "from qiskit.compiler import transpile, assemble\n",
    "from qiskit.tools.jupyter import *\n",
    "from qiskit.visualization import *\n",
    "from qiskit.visualization import plot_histogram\n",
    "# Use Aer's qasm_simulator\n",
    "backend_sim = Aer.get_backend('qasm_simulator')"
   ]
  },
  {
   "cell_type": "markdown",
   "metadata": {},
   "source": [
    "The function `prepare(N)` prepares a quantum circuit with the appropriate states as if caused by phase kickback varphi"
   ]
  },
  {
   "cell_type": "code",
   "execution_count": 78,
   "metadata": {
    "scrolled": true
   },
   "outputs": [
    {
     "name": "stdout",
     "output_type": "stream",
     "text": [
      "varphi = 0.12189296243536829\n"
     ]
    },
    {
     "data": {
      "text/html": [
       "<pre style=\"word-wrap: normal;white-space: pre;background: #fff0;line-height: 1.1;font-family: &quot;Courier New&quot;,Courier,monospace\">     ┌───┐ ┌────────────┐┌───┐                                   ░ ┌─┐      \n",
       "q_0: ┤ H ├─┤ U1(3.0635) ├┤ H ├─■────────────■────────────────────░─┤M├──────\n",
       "     ├───┤ ├────────────┤└───┘ │-pi/2 ┌───┐ │                    ░ └╥┘┌─┐   \n",
       "q_1: ┤ H ├─┤ U1(1.5318) ├──────■──────┤ H ├─┼───────■────────────░──╫─┤M├───\n",
       "     ├───┤┌┴────────────┤             └───┘ │-pi/4  │-pi/2 ┌───┐ ░  ║ └╥┘┌─┐\n",
       "q_2: ┤ H ├┤ U1(0.76588) ├───────────────────■───────■──────┤ H ├─░──╫──╫─┤M├\n",
       "     └───┘└─────────────┘                                  └───┘ ░  ║  ║ └╥┘\n",
       "c_0: ═══════════════════════════════════════════════════════════════╩══╬══╬═\n",
       "                                                                       ║  ║ \n",
       "c_1: ══════════════════════════════════════════════════════════════════╩══╬═\n",
       "                                                                          ║ \n",
       "c_2: ═════════════════════════════════════════════════════════════════════╩═\n",
       "                                                                            </pre>"
      ],
      "text/plain": [
       "     ┌───┐ ┌────────────┐┌───┐                                   ░ ┌─┐      \n",
       "q_0: ┤ H ├─┤ U1(3.0635) ├┤ H ├─■────────────■────────────────────░─┤M├──────\n",
       "     ├───┤ ├────────────┤└───┘ │-pi/2 ┌───┐ │                    ░ └╥┘┌─┐   \n",
       "q_1: ┤ H ├─┤ U1(1.5318) ├──────■──────┤ H ├─┼───────■────────────░──╫─┤M├───\n",
       "     ├───┤┌┴────────────┤             └───┘ │-pi/4  │-pi/2 ┌───┐ ░  ║ └╥┘┌─┐\n",
       "q_2: ┤ H ├┤ U1(0.76588) ├───────────────────■───────■──────┤ H ├─░──╫──╫─┤M├\n",
       "     └───┘└─────────────┘                                  └───┘ ░  ║  ║ └╥┘\n",
       "c_0: ═══════════════════════════════════════════════════════════════╩══╬══╬═\n",
       "                                                                       ║  ║ \n",
       "c_1: ══════════════════════════════════════════════════════════════════╩══╬═\n",
       "                                                                          ║ \n",
       "c_2: ═════════════════════════════════════════════════════════════════════╩═\n",
       "                                                                            "
      ]
     },
     "execution_count": 78,
     "metadata": {},
     "output_type": "execute_result"
    }
   ],
   "source": [
    "import numpy as np\n",
    "import math\n",
    "\n",
    "varphi = np.random.rand()\n",
    "#varphi = math.floor(varphi*8)/8                         #uncomment to get exact binary fraction varphi\n",
    "print (\"varphi =\", varphi)\n",
    "\n",
    "\n",
    "def prepare(varphi):\n",
    "    circ = QuantumCircuit(3,3)\n",
    "    circ.h(0)\n",
    "    circ.h(1)\n",
    "    circ.h(2)\n",
    "    circ.u1(2*math.pi*4*varphi, 0)\n",
    "    circ.u1(2*math.pi*2*varphi, 1)\n",
    "    circ.u1(2*math.pi*1*varphi, 2)\n",
    "    return circ\n",
    " \n",
    "\n",
    "#explanation of R_k the hermitian conjugate of R_k = R_k^{dagger}, is equivalent to taking the complex conjugate of R_k elementwise\n",
    "#, the only element affected is e^... and conjugate of e^... is e^-...\n",
    "\n",
    "circ = prepare(varphi)\n",
    "circ.h(0)\n",
    "circ.cu1(-1*2*math.pi/4, 0, 1)\n",
    "circ.h(1)\n",
    "circ.cu1(-1*2*math.pi/8, 0, 2)\n",
    "circ.cu1(-1* 2*math.pi/4, 1, 2)\n",
    "circ.h(2)\n",
    "circ.barrier(range(3))\n",
    "circ.measure(range(3), range(3))\n",
    "circ.draw()\n",
    "\n",
    "\n",
    "\n"
   ]
  },
  {
   "cell_type": "markdown",
   "metadata": {},
   "source": [
    "The following code simulates the above quantum circuit on a simulator hosted by IBM, then a histogram is plotted of the estimated phase (varphi)."
   ]
  },
  {
   "cell_type": "code",
   "execution_count": 82,
   "metadata": {},
   "outputs": [
    {
     "name": "stdout",
     "output_type": "stream",
     "text": [
      "{'000': 1, '001': 1023}\n"
     ]
    },
    {
     "data": {
      "image/png": "[encoded data removed]",
      "text/plain": [
       "<Figure size 504x360 with 1 Axes>"
      ]
     },
     "execution_count": 82,
     "metadata": {},
     "output_type": "execute_result"
    }
   ],
   "source": [
    "job_sim = execute(circ, backend_sim, shots=1024)\n",
    "\n",
    "# Grab the results from the job.\n",
    "result_sim = job_sim.result()\n",
    "counts = result_sim.get_counts(circ)\n",
    "print(counts)\n",
    "plot_histogram(counts)"
   ]
  }
 ],
 "metadata": {
  "kernelspec": {
   "display_name": "Python 3",
   "language": "python",
   "name": "python3"
  },
  "language_info": {
   "codemirror_mode": {
    "name": "ipython",
    "version": 3
   },
   "file_extension": ".py",
   "mimetype": "text/x-python",
   "name": "python",
   "nbconvert_exporter": "python",
   "pygments_lexer": "ipython3",
   "version": "3.7.6"
  }
 },
 "nbformat": 4,
 "nbformat_minor": 4
}
