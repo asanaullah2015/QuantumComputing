{
 "cells": [
  {
   "cell_type": "markdown",
   "metadata": {},
   "source": [
    "## Problem 2\n",
    "\n",
    "Run set up (code block directly below) once before running other code blocks "
   ]
  },
  {
   "cell_type": "code",
   "execution_count": 1,
   "metadata": {},
   "outputs": [],
   "source": [
    "#set up\n",
    "import qiskit\n",
    "provider = qiskit.IBMQ.load_account()\n",
    "from qiskit.tools.jupyter import *\n",
    "from qiskit import QuantumCircuit, execute, Aer, IBMQ\n",
    "from qiskit.compiler import transpile, assemble\n",
    "from qiskit.tools.jupyter import *\n",
    "from qiskit.visualization import *\n",
    "from qiskit.visualization import plot_histogram\n",
    "# Use Aer's qasm_simulator\n",
    "backend_sim = Aer.get_backend('qasm_simulator')"
   ]
  },
  {
   "cell_type": "markdown",
   "metadata": {},
   "source": [
    "The function `prepare(N)` prepares a quantum circuit with the appropriate states as if caused by phase kickback varphi"
   ]
  },
  {
   "cell_type": "code",
   "execution_count": 16,
   "metadata": {
    "scrolled": true
   },
   "outputs": [
    {
     "name": "stdout",
     "output_type": "stream",
     "text": [
      "varphi = 0.7550753856739043\n"
     ]
    },
    {
     "data": {
      "text/html": [
       "<pre style=\"word-wrap: normal;white-space: pre;background: #fff0;line-height: 1.1;font-family: &quot;Courier New&quot;,Courier,monospace\">     ┌───┐┌────────────┐┌───┐                                   ░ ┌─┐      \n",
       "q_0: ┤ H ├┤ U1(18.977) ├┤ H ├─■────────────■────────────────────░─┤M├──────\n",
       "     ├───┤├────────────┤└───┘ │-pi/2 ┌───┐ │                    ░ └╥┘┌─┐   \n",
       "q_1: ┤ H ├┤ U1(9.4886) ├──────■──────┤ H ├─┼───────■────────────░──╫─┤M├───\n",
       "     ├───┤├────────────┤             └───┘ │-pi/4  │-pi/2 ┌───┐ ░  ║ └╥┘┌─┐\n",
       "q_2: ┤ H ├┤ U1(4.7443) ├───────────────────■───────■──────┤ H ├─░──╫──╫─┤M├\n",
       "     └───┘└────────────┘                                  └───┘ ░  ║  ║ └╥┘\n",
       "c_0: ══════════════════════════════════════════════════════════════╩══╬══╬═\n",
       "                                                                      ║  ║ \n",
       "c_1: ═════════════════════════════════════════════════════════════════╩══╬═\n",
       "                                                                         ║ \n",
       "c_2: ════════════════════════════════════════════════════════════════════╩═\n",
       "                                                                           </pre>"
      ],
      "text/plain": [
       "     ┌───┐┌────────────┐┌───┐                                   ░ ┌─┐      \n",
       "q_0: ┤ H ├┤ U1(18.977) ├┤ H ├─■────────────■────────────────────░─┤M├──────\n",
       "     ├───┤├────────────┤└───┘ │-pi/2 ┌───┐ │                    ░ └╥┘┌─┐   \n",
       "q_1: ┤ H ├┤ U1(9.4886) ├──────■──────┤ H ├─┼───────■────────────░──╫─┤M├───\n",
       "     ├───┤├────────────┤             └───┘ │-pi/4  │-pi/2 ┌───┐ ░  ║ └╥┘┌─┐\n",
       "q_2: ┤ H ├┤ U1(4.7443) ├───────────────────■───────■──────┤ H ├─░──╫──╫─┤M├\n",
       "     └───┘└────────────┘                                  └───┘ ░  ║  ║ └╥┘\n",
       "c_0: ══════════════════════════════════════════════════════════════╩══╬══╬═\n",
       "                                                                      ║  ║ \n",
       "c_1: ═════════════════════════════════════════════════════════════════╩══╬═\n",
       "                                                                         ║ \n",
       "c_2: ════════════════════════════════════════════════════════════════════╩═\n",
       "                                                                           "
      ]
     },
     "execution_count": 16,
     "metadata": {},
     "output_type": "execute_result"
    }
   ],
   "source": [
    "import numpy as np\n",
    "import math\n",
    "\n",
    "varphi = np.random.rand()\n",
    "#varphi = math.floor(varphi*8)/8                         #uncomment to get exact binary fraction varphi\n",
    "print (\"varphi =\", varphi)\n",
    "\n",
    "\n",
    "def prepare(varphi):\n",
    "    circ = QuantumCircuit(3,3)\n",
    "    circ.h(0)\n",
    "    circ.h(1)\n",
    "    circ.h(2)\n",
    "    circ.u1(2*math.pi*4*varphi, 0)\n",
    "    circ.u1(2*math.pi*2*varphi, 1)\n",
    "    circ.u1(2*math.pi*1*varphi, 2)\n",
    "    return circ\n",
    " \n",
    "\n",
    "#explanation of R_k the hermitian conjugate of R_k = R_k^{dagger}, is equivalent to taking the complex conjugate of R_k elementwise\n",
    "#, the only element affected is e^... and conjugate of e^... is e^-...\n",
    "\n",
    "circ = prepare(varphi)\n",
    "circ.h(0)\n",
    "circ.cu1(-1*2*math.pi/4, 0, 1)\n",
    "circ.h(1)\n",
    "circ.cu1(-1*2*math.pi/8, 0, 2)\n",
    "circ.cu1(-1* 2*math.pi/4, 1, 2)\n",
    "circ.h(2)\n",
    "circ.barrier(range(3))\n",
    "circ.measure(range(3), range(3))\n",
    "circ.draw()\n",
    "\n",
    "\n",
    "\n"
   ]
  },
  {
   "cell_type": "markdown",
   "metadata": {},
   "source": [
    "The following code simulates the above quantum circuit on a simulator hosted by IBM, then a histogram is plotted of the estimated phase (varphi)."
   ]
  },
  {
   "cell_type": "code",
   "execution_count": 25,
   "metadata": {},
   "outputs": [
    {
     "name": "stdout",
     "output_type": "stream",
     "text": [
      "{'010': 1, '000': 1, '111': 2, '110': 1017, '101': 2, '001': 1} \n",
      "\n",
      "000 : 0.0\n",
      "001 : 0.125\n",
      "010 : 0.25\n",
      "101 : 0.625\n",
      "110 : 0.75\n",
      "111 : 0.875\n",
      "varphi = 0.7550753856739043\n"
     ]
    },
    {
     "data": {
      "image/png": "[encoded data removed]",
      "text/plain": [
       "<Figure size 504x360 with 1 Axes>"
      ]
     },
     "execution_count": 25,
     "metadata": {},
     "output_type": "execute_result"
    }
   ],
   "source": [
    "job_sim = execute(circ, backend_sim, shots=1024)\n",
    "\n",
    "# Grab the results from the job.\n",
    "result_sim = job_sim.result()\n",
    "counts = result_sim.get_counts(circ)\n",
    "print(counts, \"\\n\")\n",
    "\n",
    "for i in sorted(counts.keys()):\n",
    "    print(i, \":\",  int(i, 2)/8)\n",
    "print (\"varphi =\", varphi)\n",
    "\n",
    "plot_histogram(counts)"
   ]
  }
 ],
 "metadata": {
  "kernelspec": {
   "display_name": "Python 3",
   "language": "python",
   "name": "python3"
  },
  "language_info": {
   "codemirror_mode": {
    "name": "ipython",
    "version": 3
   },
   "file_extension": ".py",
   "mimetype": "text/x-python",
   "name": "python",
   "nbconvert_exporter": "python",
   "pygments_lexer": "ipython3",
   "version": "3.7.6"
  }
 },
 "nbformat": 4,
 "nbformat_minor": 4
}
