{
  "nbformat": 4,
  "nbformat_minor": 0,
  "metadata": {
    "colab": {
      "name": "hw_4.ipynb",
      "provenance": [],
      "collapsed_sections": [],
      "include_colab_link": true
    },
    "kernelspec": {
      "name": "python3",
      "display_name": "Python 3"
    }
  },
  "cells": [
    {
      "cell_type": "markdown",
      "metadata": {
        "id": "view-in-github",
        "colab_type": "text"
      },
      "source": [
        "<a href=\"https://colab.research.google.com/github/asanaullah2015/cot5600/blob/master/hw_4.ipynb\" target=\"_parent\"><img src=\"https://colab.research.google.com/assets/colab-badge.svg\" alt=\"Open In Colab\"/></a>"
      ]
    },
    {
      "cell_type": "markdown",
      "metadata": {
        "id": "wf2A1lXe6JFT",
        "colab_type": "text"
      },
      "source": [
        "## HW 4"
      ]
    },
    {
      "cell_type": "markdown",
      "metadata": {
        "id": "hqRx6Utk6O2i",
        "colab_type": "text"
      },
      "source": [
        "### Problem 1 "
      ]
    },
    {
      "cell_type": "markdown",
      "metadata": {
        "id": "CAw2poAb6rci",
        "colab_type": "text"
      },
      "source": [
        "Implement Pollard's $\\rho$ method to find collisions.  It is OK if you look up the code for this on the internet.  \n",
        "\n",
        "\n",
        "---\n",
        "\n",
        "Pollard's $\\rho$ method is an integer factorization method, Floyd's cycle detection algorithm detects collisions. The function `Floyd(a, N)` implements Floyd's cycle detection algorithm for $x_i = a^i\\mod N$."
      ]
    },
    {
      "cell_type": "code",
      "metadata": {
        "id": "ChvIhrrT5eRv",
        "colab_type": "code",
        "colab": {}
      },
      "source": [
        "def Floyd(a, N): #returns position of tortoise\n",
        "  t = a % N\n",
        "  h = (t*a) % N\n",
        "  i = 1\n",
        "  while (t!=h):\n",
        "    t = (a*t) % N\n",
        "    h = (a*a*h) % N\n",
        "    i+=1\n",
        "  #we found the cycle\n",
        "  return i"
      ],
      "execution_count": 0,
      "outputs": []
    },
    {
      "cell_type": "markdown",
      "metadata": {
        "id": "YGvKfv8Q6_La",
        "colab_type": "text"
      },
      "source": [
        "### Problem 2"
      ]
    },
    {
      "cell_type": "markdown",
      "metadata": {
        "id": "aFSB0WugKSJm",
        "colab_type": "text"
      },
      "source": [
        "The function `find_order` is the same as Floyd's cycle detection algorithm with a measurement of cycle length afterwards"
      ]
    },
    {
      "cell_type": "code",
      "metadata": {
        "id": "I3930qUK7Z_i",
        "colab_type": "code",
        "colab": {}
      },
      "source": [
        "# implement the function find_order\n",
        "\n",
        "def find_order(a, N):\n",
        "  # using the method from problem 1 \n",
        "  # compute the order r of a module N\n",
        "  t = a % N\n",
        "  h = (t*a) % N\n",
        "  while (t!=h):\n",
        "    t = (a*t) % N\n",
        "    h = (a*a*h) % N\n",
        "\n",
        "  #we found the cycle, now we are checking it's length\n",
        "  t = (a*t) % N\n",
        "  r = 1\n",
        "  i = 0\n",
        "  while (t!=h):\n",
        "    t = (a*t) % N\n",
        "    r += 1\n",
        "  \n",
        "  return r"
      ],
      "execution_count": 0,
      "outputs": []
    },
    {
      "cell_type": "markdown",
      "metadata": {
        "id": "b237qgr27rxx",
        "colab_type": "text"
      },
      "source": [
        "\n",
        "### Problem 3"
      ]
    },
    {
      "cell_type": "markdown",
      "metadata": {
        "id": "q3V9EEb6LofJ",
        "colab_type": "text"
      },
      "source": [
        "This code generates 10 random integers between 10 and maxtoFactor and returns prints a non-trivial factor of each. It gets stuck on some small numbers (including 6 and 49). This may be because none of the $a\\in [2,...,N-1]$ provide a non-trivial factor."
      ]
    },
    {
      "cell_type": "code",
      "metadata": {
        "id": "ZObTYzc-7toX",
        "colab_type": "code",
        "colab": {
          "base_uri": "https://localhost:8080/",
          "height": 678
        },
        "outputId": "b5850e8a-005a-49d7-a929-a616fc81db21"
      },
      "source": [
        "import numpy as np\n",
        "\n",
        "#GCD implements the euclidean algorithm\n",
        "def GCD(c: int, d: int):\n",
        "  while (d != 0):\n",
        "      temp = d\n",
        "      d = c % d\n",
        "      c = temp\n",
        "  return c\n",
        "\n",
        "\n",
        "# implement the function factor\n",
        "def factor(N):\n",
        "  another = True\n",
        "  while (another):\n",
        "    # choose a uniformly at random in {2,...,N-1}\n",
        "    a = np.random.randint(2, N)\n",
        "    # compute the order r of a module N using the method from problem 2\n",
        "    r = find_order(a,N)\n",
        "    # if r odd, chose different a\n",
        "    # if r even, compute f = gcd(a**(r/2 -1), N))\n",
        "    if (r%2 == 0):\n",
        "      #print(a, r)        #uncomment to see the a and r causing overflow\n",
        "      f = GCD(a**(r/2 - 1), N)\n",
        "      # if f is a trivial factor, choose different a\n",
        "      if (not(f == N or f == 1)):\n",
        "        another = False\n",
        "  return f\n",
        "\n",
        "\n",
        "def isPrime(N):\n",
        "  for i in range(2, (int)(N**0.5)+1):\n",
        "    if ((N//i)*i == N):\n",
        "      return False\n",
        "  return True\n",
        "\n",
        "\n",
        "print(\"Occasionally, this code will overflow if a and r are too large.\")\n",
        "print(\"This code may also get stuck on small numbers, this may be because none of the a's in [2,...,N-1] provide a non-trivial factor.\")\n",
        "print(\"Some examples of the above phenomenon are x = 6 and x = 49\")\n",
        "print(\"\\n\\n\")\n",
        "#print(factor(6))\n",
        "#print(factor(49))\n",
        "\n",
        "maxtoFactor = 500\n",
        "for i in range(10):\n",
        "  x = np.random.randint(10, maxtoFactor)\n",
        "  print(\"Factoring\", x)\n",
        "  if (isPrime(x)):\n",
        "    print(x, \"is a prime\\n\")\n",
        "  else:\n",
        "    print(\"A factor of\", x, \"is\", factor(x), \"\\n\")\n"
      ],
      "execution_count": 192,
      "outputs": [
        {
          "output_type": "stream",
          "text": [
            "Occasionally, this code will overflow if a and r are too large.\n",
            "This code may also get stuck on small numbers, this may be because none of the a's in [2,...,N-1] provide a non-trivial factor.\n",
            "Some examples of the above phenomenon are x = 6 and x = 49\n",
            "\n",
            "\n",
            "\n",
            "Factoring 333\n",
            "A factor of 333 is 9.0 \n",
            "\n",
            "Factoring 241\n",
            "241 is a prime\n",
            "\n",
            "Factoring 433\n",
            "433 is a prime\n",
            "\n",
            "Factoring 248\n",
            "A factor of 248 is 8.0 \n",
            "\n",
            "Factoring 319\n",
            "A factor of 319 is 29.0 \n",
            "\n",
            "Factoring 100\n",
            "A factor of 100 is 4.0 \n",
            "\n",
            "Factoring 101\n",
            "101 is a prime\n",
            "\n",
            "Factoring 83\n",
            "83 is a prime\n",
            "\n",
            "Factoring 463\n",
            "463 is a prime\n",
            "\n",
            "Factoring 341\n",
            "A factor of 341 is 11.0 \n",
            "\n"
          ],
          "name": "stdout"
        }
      ]
    }
  ]
}
